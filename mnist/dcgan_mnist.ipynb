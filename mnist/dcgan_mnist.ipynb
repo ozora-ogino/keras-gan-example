{
  "nbformat": 4,
  "nbformat_minor": 0,
  "metadata": {
    "colab": {
      "name": "keras-dcgan-mnist.ipynb",
      "provenance": []
    },
    "kernelspec": {
      "name": "python3",
      "display_name": "Python 3"
    },
    "accelerator": "GPU"
  },
  "cells": [
    {
      "cell_type": "code",
      "metadata": {
        "id": "vhmWwvDPYFub",
        "colab": {
          "base_uri": "https://localhost:8080/",
          "height": 34
        },
        "outputId": "cbb84ea9-dc2b-41d2-acb4-5d986e6b86cf"
      },
      "source": [
        "%matplotlib inline\n",
        "import numpy as np\n",
        "import matplotlib.pyplot as plt\n",
        "\n",
        "from keras.datasets import mnist\n",
        "from keras.layers import Dense, Flatten, Reshape, Activation, BatchNormalization, Dropout\n",
        "from keras.layers.advanced_activations import LeakyReLU\n",
        "from keras.layers.convolutional import Conv2D, Conv2DTranspose\n",
        "from keras.models import Sequential\n",
        "from keras.optimizers import Adam"
      ],
      "execution_count": null,
      "outputs": [
        {
          "output_type": "stream",
          "text": [
            "Using TensorFlow backend.\n"
          ],
          "name": "stderr"
        }
      ]
    },
    {
      "cell_type": "code",
      "metadata": {
        "id": "RUjIeH14YQ9M"
      },
      "source": [
        "img_rows = 28\n",
        "img_cols = 28\n",
        "channels = 1\n",
        "img_shape = (img_rows, img_cols, channels)\n",
        "z_dim = 100"
      ],
      "execution_count": null,
      "outputs": []
    },
    {
      "cell_type": "code",
      "metadata": {
        "id": "4gz6DX_iYxRd"
      },
      "source": [
        "\n",
        "def build_generator(z_dim):\n",
        "  model = Sequential()\n",
        "\n",
        "  model.add(Dense(7*7*256, input_dim=z_dim))\n",
        "  model.add(Reshape((7, 7, 256)))\n",
        "\n",
        "  model.add(Conv2DTranspose(128, kernel_size=3, strides=2, padding='same'))\n",
        "  model.add(BatchNormalization())\n",
        "  model.add(LeakyReLU(alpha=0.01))\n",
        "\n",
        "  model.add(Conv2DTranspose(64, kernel_size=3, strides=1, padding='same'))\n",
        "  model.add(BatchNormalization())\n",
        "  model.add(LeakyReLU(alpha=0.01))\n",
        "\n",
        "  model.add(Conv2DTranspose(1, kernel_size=3, strides=2, padding='same'))\n",
        "  model.add(Activation('tanh'))\n",
        "\n",
        "  return model\n",
        "\n",
        "def build_discriminator(img_shape):\n",
        "  model = Sequential()\n",
        "\n",
        "  model.add(Conv2D(32, kernel_size=3, strides=2, input_shape=img_shape, padding='same'))\n",
        "  model.add(LeakyReLU(alpha=0.01))\n",
        "\n",
        "  model.add(Conv2D(64, kernel_size=3, strides=2, input_shape=img_shape,padding='same'))\n",
        "  model.add(BatchNormalization())\n",
        "  model.add(LeakyReLU(alpha=0.01))\n",
        "\n",
        "  model.add(Conv2D(128, kernel_size=3, strides=2, input_shape=img_shape, padding='same'))\n",
        "  model.add(BatchNormalization())\n",
        "  model.add(LeakyReLU(alpha=0.01))\n",
        "\n",
        "  model.add(Flatten())\n",
        "  model.add(Dense(1, activation='sigmoid'))\n",
        "\n",
        "  return model\n",
        "\n",
        "\n",
        "def build_gan(generator, discriminator):\n",
        "  model = Sequential()\n",
        "  model.add(generator)\n",
        "  model.add(discriminator)\n",
        "  return model"
      ],
      "execution_count": null,
      "outputs": []
    },
    {
      "cell_type": "code",
      "metadata": {
        "id": "-2IFc1n5a87z"
      },
      "source": [
        "\n",
        "discriminator = build_discriminator(img_shape)\n",
        "discriminator.compile(loss='binary_crossentropy', metrics=['accuracy'], optimizer=Adam())\n",
        "\n",
        "generator = build_generator(z_dim)\n",
        "\n",
        "discriminator.trainable = False\n",
        "\n",
        "gan = build_gan(generator, discriminator)\n",
        "gan.compile(loss='binary_crossentropy', optimizer=Adam())"
      ],
      "execution_count": null,
      "outputs": []
    },
    {
      "cell_type": "code",
      "metadata": {
        "id": "X6veWjz9dVsA"
      },
      "source": [
        "losses = []\n",
        "accuracies = []\n",
        "iteration_checkpoint = []\n",
        "\n",
        "def train(iterations, batch_size, sample_interval, save=True):\n",
        "  (x_train, _), (_, _) = mnist.load_data()\n",
        "\n",
        "  x_train = x_train / 127.5 - 1 # Normalization\n",
        "  x_train = np.expand_dims(x_train, axis=3)\n",
        "  \n",
        "  real = np.ones((batch_size, 1))\n",
        "  fake = np.zeros((batch_size, 1))\n",
        "\n",
        "  for iteration in range(iterations):\n",
        "\n",
        "    idx = np.random.randint(0, x_train.shape[0], batch_size)\n",
        "    imgs = x_train[idx]\n",
        "    z = np.random.normal(0, 1, (batch_size, 100)) # Noise\n",
        "    gen_imgs = generator.predict(z)\n",
        "\n",
        "    d_loss_real = discriminator.train_on_batch(imgs, real)\n",
        "    d_loss_fake = discriminator.train_on_batch(gen_imgs, fake)\n",
        "    d_loss, acc = 0.5 * np.add(d_loss_real, d_loss_fake)\n",
        "\n",
        "    z = np.random.normal(0, 1, (batch_size, 100))\n",
        "    gen_imgs = generator.predict(z)\n",
        "\n",
        "    g_loss = gan.train_on_batch(z, real)\n",
        "\n",
        "    if (iteration+1) % sample_interval == 0:\n",
        "      losses.append((d_loss, g_loss))\n",
        "      accuracies.append(acc)\n",
        "      iteration_checkpoint.append(iteration+1)\n",
        "\n",
        "      # print(f'{iteration+1} [D loss : {d_loss}, acc : {acc*100}] [G loss : {g_loss}]')\n",
        "\n",
        "      sample_images(generator, iter=iteration,save=save)\n",
        "\n",
        "\n",
        "\n",
        "def sample_images(generator, image_grid_rows =4, image_grid_colmuns=4, iter=0, save=False):\n",
        "  z = np.random.normal(0, 1, (image_grid_rows*image_grid_colmuns, z_dim))\n",
        "  gen_images = generator.predict(z)\n",
        "\n",
        "  gen_images = 0.5 * gen_images + 0.5\n",
        "\n",
        "  fig, axs = plt.subplots(image_grid_rows, image_grid_colmuns, figsize=(4,4), sharex=True, sharey=True)\n",
        "\n",
        "  cnt = 0\n",
        "  for i in range(image_grid_rows):\n",
        "    for j in range(image_grid_colmuns):\n",
        "      axs[i, j].imshow(gen_images[cnt, :, :, 0], cmap='gray')\n",
        "      axs[i, j].axis('off')\n",
        "      cnt += 1\n",
        "\n",
        "  if save==True:\n",
        "    path = 'drive/My Drive/python/image/mnist_dcgan/'\n",
        "    if not os.path.isdir(path):\n",
        "      return \n",
        "    num = int((iter-4) / 5)\n",
        "    name = \"mnist-dcgan{0:05d}.jpg\".format((num))\n",
        "    fig.savefig(path+name)\n",
        "      \n",
        "\n"
      ],
      "execution_count": null,
      "outputs": []
    },
    {
      "cell_type": "code",
      "metadata": {
        "id": "5jUgFnjkg_Do",
        "colab": {
          "base_uri": "https://localhost:8080/",
          "height": 88
        },
        "outputId": "f0962c5c-75d1-4635-a5e6-6c8475eb6b5a"
      },
      "source": [
        "iterations =15000\n",
        "batch_size=128\n",
        "sample_interval = 5\n",
        "\n",
        "train(iterations, batch_size, sample_interval)"
      ],
      "execution_count": null,
      "outputs": [
        {
          "output_type": "stream",
          "text": [
            "/usr/local/lib/python3.6/dist-packages/keras/engine/training.py:297: UserWarning: Discrepancy between trainable weights and collected trainable weights, did you set `model.trainable` without calling `model.compile` after ?\n",
            "  'Discrepancy between trainable weights and collected trainable'\n",
            "/usr/local/lib/python3.6/dist-packages/ipykernel_launcher.py:47: RuntimeWarning: More than 20 figures have been opened. Figures created through the pyplot interface (`matplotlib.pyplot.figure`) are retained until explicitly closed and may consume too much memory. (To control this warning, see the rcParam `figure.max_open_warning`).\n"
          ],
          "name": "stderr"
        }
      ]
    },
    {
      "cell_type": "code",
      "metadata": {
        "id": "ENy4LPvbhluz",
        "colab": {
          "base_uri": "https://localhost:8080/",
          "height": 248
        },
        "outputId": "8c46d85b-366a-4802-f548-4bdfba9dec71"
      },
      "source": [
        "\n",
        "(x, _), (_, _) = mnist.load_data()\n",
        "idx = np.random.randint(0, x.shape[0], 16)\n",
        "sample = x[idx]\n",
        "fig, axis = plt.subplots(4, 4, figsize=(4,4), sharex=True, sharey=True)\n",
        "cnt = 0\n",
        "for i in range(4):\n",
        "  for j in range(4):\n",
        "    axis[i, j].imshow(x[cnt], cmap='gray')\n",
        "    axis[i, j].axis('off')\n",
        "    cnt += 1"
      ],
      "execution_count": null,
      "outputs": [
        {
          "output_type": "display_data",
          "data": {
            "image/png": "[encoded data removed]",
            "text/plain": [
              "<Figure size 288x288 with 16 Axes>"
            ]
          },
          "metadata": {
            "tags": [],
            "needs_background": "light"
          }
        }
      ]
    },
    {
      "cell_type": "code",
      "metadata": {
        "id": "rNrZUYpeSQtD",
        "colab": {
          "base_uri": "https://localhost:8080/",
          "height": 51
        },
        "outputId": "97e1083b-a8b6-45c7-cb41-93edf9cc406b"
      },
      "source": [
        "(x_train, y_train), (_, _) = mnist.load_data()\n"
      ],
      "execution_count": null,
      "outputs": [
        {
          "output_type": "stream",
          "text": [
            "Downloading data from https://s3.amazonaws.com/img-datasets/mnist.npz\n",
            "11493376/11490434 [==============================] - 1s 0us/step\n"
          ],
          "name": "stdout"
        }
      ]
    },
    {
      "cell_type": "code",
      "metadata": {
        "id": "0cQB1H5NDxvt",
        "colab": {
          "base_uri": "https://localhost:8080/",
          "height": 34
        },
        "outputId": "db359a4b-8744-4c31-b364-c69c0056aa43"
      },
      "source": [
        "y_train[:0]"
      ],
      "execution_count": null,
      "outputs": [
        {
          "output_type": "execute_result",
          "data": {
            "text/plain": [
              "array([], dtype=uint8)"
            ]
          },
          "metadata": {
            "tags": []
          },
          "execution_count": 10
        }
      ]
    },
    {
      "cell_type": "code",
      "metadata": {
        "id": "f4YrfO_TqJTB"
      },
      "source": [
        ""
      ],
      "execution_count": null,
      "outputs": []
    }
  ]
}